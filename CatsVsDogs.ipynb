{
 "cells": [
  {
   "cell_type": "code",
   "execution_count": 2,
   "metadata": {},
   "outputs": [],
   "source": [
    "import os\n",
    "import zipfile\n",
    "import random\n",
    "import tensorflow as tf\n",
    "from tensorflow.keras.optimizers import RMSprop\n",
    "from tensorflow.keras.preprocessing.image import ImageDataGenerator\n",
    "from shutil import copyfile\n",
    "import sys\n",
    "import PIL\n"
   ]
  },
  {
   "cell_type": "code",
   "execution_count": 3,
   "metadata": {},
   "outputs": [
    {
     "name": "stdout",
     "output_type": "stream",
     "text": [
      "1001\n",
      "1001\n",
      "4001\n",
      "4001\n"
     ]
    }
   ],
   "source": [
    "print(len(os.listdir('C:/Users/monil/dataset/test_set/cats')))\n",
    "print(len(os.listdir('C:/Users/monil/dataset/test_set/dogs')))\n",
    "print(len(os.listdir('C:/Users/monil/dataset/training_set/cats')))\n",
    "print(len(os.listdir('C:/Users/monil/dataset/training_set/dogs')))"
   ]
  },
  {
   "cell_type": "code",
   "execution_count": 9,
   "metadata": {},
   "outputs": [
    {
     "name": "stdout",
     "output_type": "stream",
     "text": [
      "Found 8000 images belonging to 2 classes.\n",
      "Found 2000 images belonging to 2 classes.\n"
     ]
    }
   ],
   "source": [
    "training_dir = 'C:/Users/monil/dataset/training_set'\n",
    "train_datagen = ImageDataGenerator(rescale = 1./255,\n",
    "                                  rotation_range = 40,\n",
    "                                  height_shift_range = 0.2,\n",
    "                                  width_shift_range = 0.2,\n",
    "                                  shear_range = 0.2,\n",
    "                                  zoom_range = 0.2,\n",
    "                                  horizontal_flip = True)\n",
    "train_generator = train_datagen.flow_from_directory(training_dir,\n",
    "                                                   batch_size = 10,\n",
    "                                                   class_mode = 'binary',\n",
    "                                                   target_size = (150,150))\n",
    "\n",
    "validation_dir = 'C:/Users/monil/dataset/test_set'\n",
    "validation_datagen = ImageDataGenerator(rescale=1./255)\n",
    "validation_generator = validation_datagen.flow_from_directory(validation_dir,\n",
    "                                                             batch_size = 10,\n",
    "                                                             class_mode = 'binary',\n",
    "                                                             target_size = (150,150))\n"
   ]
  },
  {
   "cell_type": "code",
   "execution_count": 10,
   "metadata": {},
   "outputs": [],
   "source": [
    "model = tf.keras.Sequential([\n",
    "    tf.keras.layers.Conv2D(16, (3,3), activation='relu', input_shape = (150,150,3)),\n",
    "    tf.keras.layers.MaxPool2D(2,2),\n",
    "    tf.keras.layers.Conv2D(32, (3,3), activation='relu'),\n",
    "    tf.keras.layers.MaxPool2D(2,2),\n",
    "    tf.keras.layers.Conv2D(64, (3,3), activation='relu'),\n",
    "    tf.keras.layers.MaxPool2D(2,2),\n",
    "    tf.keras.layers.Conv2D(128, (3,3), activation='relu'),\n",
    "    tf.keras.layers.MaxPool2D(2,2),\n",
    "    tf.keras.layers.Flatten(),\n",
    "    tf.keras.layers.Dense(256, activation='relu'),\n",
    "    tf.keras.layers.Dense(1, activation='sigmoid')\n",
    "])"
   ]
  },
  {
   "cell_type": "code",
   "execution_count": 11,
   "metadata": {},
   "outputs": [],
   "source": [
    "model.compile(optimizer = RMSprop(lr = 0.001), loss = 'binary_crossentropy', metrics = ['acc'])"
   ]
  },
  {
   "cell_type": "code",
   "execution_count": 12,
   "metadata": {},
   "outputs": [
    {
     "name": "stdout",
     "output_type": "stream",
     "text": [
      "WARNING:tensorflow:sample_weight modes were coerced from\n",
      "  ...\n",
      "    to  \n",
      "  ['...']\n",
      "WARNING:tensorflow:sample_weight modes were coerced from\n",
      "  ...\n",
      "    to  \n",
      "  ['...']\n",
      "Train for 800 steps, validate for 200 steps\n",
      "Epoch 1/5\n",
      "800/800 [==============================] - 496s 620ms/step - loss: 0.6881 - acc: 0.5715 - val_loss: 0.6523 - val_acc: 0.6325\n",
      "Epoch 2/5\n",
      "800/800 [==============================] - 330s 412ms/step - loss: 0.6523 - acc: 0.6284 - val_loss: 0.6643 - val_acc: 0.6065\n",
      "Epoch 3/5\n",
      "800/800 [==============================] - 355s 443ms/step - loss: 0.6342 - acc: 0.6492 - val_loss: 0.5680 - val_acc: 0.7075\n",
      "Epoch 4/5\n",
      "800/800 [==============================] - 289s 361ms/step - loss: 0.6142 - acc: 0.6656 - val_loss: 0.5409 - val_acc: 0.7305\n",
      "Epoch 5/5\n",
      "800/800 [==============================] - 302s 377ms/step - loss: 0.5956 - acc: 0.6869 - val_loss: 0.5388 - val_acc: 0.7415\n"
     ]
    }
   ],
   "source": [
    "history = model.fit(train_generator, epochs = 5, validation_data = validation_generator)"
   ]
  },
  {
   "cell_type": "code",
   "execution_count": null,
   "metadata": {},
   "outputs": [],
   "source": []
  }
 ],
 "metadata": {
  "kernelspec": {
   "display_name": "Python 3",
   "language": "python",
   "name": "python3"
  },
  "language_info": {
   "codemirror_mode": {
    "name": "ipython",
    "version": 3
   },
   "file_extension": ".py",
   "mimetype": "text/x-python",
   "name": "python",
   "nbconvert_exporter": "python",
   "pygments_lexer": "ipython3",
   "version": "3.7.7"
  }
 },
 "nbformat": 4,
 "nbformat_minor": 4
}
